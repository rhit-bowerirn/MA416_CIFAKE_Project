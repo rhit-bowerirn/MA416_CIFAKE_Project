{
  "cells": [
    {
      "cell_type": "markdown",
      "metadata": {},
      "source": [
        "# EfficientNet on Median Blur Filter"
      ]
    },
    {
      "cell_type": "markdown",
      "metadata": {},
      "source": [
        "We'll try training EfficientNet on our Median Blur filtered data"
      ]
    },
    {
      "cell_type": "markdown",
      "metadata": {},
      "source": [
        "## Imports"
      ]
    },
    {
      "cell_type": "code",
      "execution_count": null,
      "metadata": {
        "id": "UAhAp0378L5y"
      },
      "outputs": [],
      "source": [
        "from keras.applications import EfficientNetB0\n",
        "from keras.layers import Dense, GlobalAveragePooling2D\n",
        "import numpy as np\n",
        "import tensorflow as tf\n"
      ]
    },
    {
      "cell_type": "markdown",
      "metadata": {},
      "source": [
        "## Loading Data"
      ]
    },
    {
      "cell_type": "code",
      "execution_count": null,
      "metadata": {
        "id": "1cFbUaMUW68u"
      },
      "outputs": [],
      "source": [
        "train_data = np.load('Median_Blur_Train.npz')\n",
        "test_data = np.load('Median_Blur_Test.npz')\n"
      ]
    },
    {
      "cell_type": "code",
      "execution_count": null,
      "metadata": {
        "id": "XCt8k-W5W7Tg"
      },
      "outputs": [],
      "source": [
        "x_train = train_data['images']\n",
        "y_train = train_data['labels']\n"
      ]
    },
    {
      "cell_type": "code",
      "execution_count": null,
      "metadata": {
        "id": "PRJUhlwDW7pG"
      },
      "outputs": [],
      "source": [
        "x_test = test_data['images']\n",
        "y_test = test_data['labels']\n"
      ]
    },
    {
      "cell_type": "markdown",
      "metadata": {},
      "source": [
        "## Building the Model"
      ]
    },
    {
      "cell_type": "code",
      "execution_count": null,
      "metadata": {
        "colab": {
          "base_uri": "https://localhost:8080/"
        },
        "id": "grYswQf_XRwn",
        "outputId": "e13c47a8-36ec-433d-879c-3bb836491026"
      },
      "outputs": [
        {
          "name": "stdout",
          "output_type": "stream",
          "text": [
            "Downloading data from https://storage.googleapis.com/keras-applications/efficientnetb0_notop.h5\n",
            "16705208/16705208 [==============================] - 2s 0us/step\n"
          ]
        }
      ],
      "source": [
        "efficient_net = EfficientNetB0(weights='imagenet', include_top=False, input_shape=(32, 32, 3))\n"
      ]
    },
    {
      "cell_type": "code",
      "execution_count": null,
      "metadata": {
        "id": "W5yZxoWdXSGb"
      },
      "outputs": [],
      "source": [
        "x = efficient_net.output\n",
        "x = GlobalAveragePooling2D()(x)\n",
        "x = Dense(256, activation='relu')(x)\n",
        "Ph = Dense(1, activation='sigmoid')(x)\n",
        "model = tf.keras.Model(inputs=efficient_net.input, outputs=Ph)\n"
      ]
    },
    {
      "cell_type": "markdown",
      "metadata": {},
      "source": [
        "## Training the Model"
      ]
    },
    {
      "cell_type": "code",
      "execution_count": null,
      "metadata": {
        "id": "LPA7WF5_Xiq0"
      },
      "outputs": [],
      "source": [
        "model.compile(optimizer='adam', loss='binary_crossentropy', metrics=['accuracy'])\n"
      ]
    },
    {
      "cell_type": "code",
      "execution_count": null,
      "metadata": {
        "colab": {
          "base_uri": "https://localhost:8080/"
        },
        "id": "LyZsKiUTXmLW",
        "outputId": "334d5ef4-69da-4758-f277-107bd62bbc52"
      },
      "outputs": [
        {
          "name": "stdout",
          "output_type": "stream",
          "text": [
            "Epoch 1/10\n",
            "2500/2500 [==============================] - 177s 51ms/step - loss: 0.3387 - accuracy: 0.8539 - val_loss: 0.2414 - val_accuracy: 0.8987\n",
            "Epoch 2/10\n",
            "2500/2500 [==============================] - 110s 44ms/step - loss: 0.2506 - accuracy: 0.8960 - val_loss: 0.2078 - val_accuracy: 0.9218\n",
            "Epoch 3/10\n",
            "2500/2500 [==============================] - 115s 46ms/step - loss: 0.2190 - accuracy: 0.9122 - val_loss: 0.1955 - val_accuracy: 0.9236\n",
            "Epoch 4/10\n",
            "2500/2500 [==============================] - 111s 44ms/step - loss: 0.1973 - accuracy: 0.9215 - val_loss: 0.1996 - val_accuracy: 0.9226\n",
            "Epoch 5/10\n",
            "2500/2500 [==============================] - 112s 45ms/step - loss: 0.1810 - accuracy: 0.9268 - val_loss: 0.1675 - val_accuracy: 0.9340\n",
            "Epoch 6/10\n",
            "2500/2500 [==============================] - 108s 43ms/step - loss: 0.1648 - accuracy: 0.9348 - val_loss: 0.1781 - val_accuracy: 0.9316\n",
            "Epoch 7/10\n",
            "2500/2500 [==============================] - 113s 45ms/step - loss: 0.1459 - accuracy: 0.9426 - val_loss: 0.1612 - val_accuracy: 0.9369\n",
            "Epoch 8/10\n",
            "2500/2500 [==============================] - 108s 43ms/step - loss: 0.1348 - accuracy: 0.9478 - val_loss: 0.1645 - val_accuracy: 0.9352\n",
            "Epoch 9/10\n",
            "2500/2500 [==============================] - 114s 46ms/step - loss: 0.1197 - accuracy: 0.9525 - val_loss: 0.1708 - val_accuracy: 0.9333\n",
            "Epoch 10/10\n",
            "2500/2500 [==============================] - 109s 44ms/step - loss: 0.1158 - accuracy: 0.9554 - val_loss: 0.1808 - val_accuracy: 0.9287\n"
          ]
        },
        {
          "data": {
            "text/plain": [
              "<keras.src.callbacks.History at 0x7e571c565ea0>"
            ]
          },
          "execution_count": 8,
          "metadata": {},
          "output_type": "execute_result"
        }
      ],
      "source": [
        "model.fit(x_train, y_train, epochs=10, batch_size=32, validation_split=0.2)\n"
      ]
    },
    {
      "cell_type": "code",
      "execution_count": null,
      "metadata": {
        "colab": {
          "base_uri": "https://localhost:8080/"
        },
        "id": "xWHxjq2SeVCL",
        "outputId": "a9d999b4-4ed1-4e23-8d4c-9f9b9e216d59"
      },
      "outputs": [
        {
          "name": "stdout",
          "output_type": "stream",
          "text": [
            "625/625 [==============================] - 6s 10ms/step - loss: 0.1808 - accuracy: 0.9288\n"
          ]
        }
      ],
      "source": [
        "test_loss, test_accuracy = model.evaluate(x_test, y_test)\n"
      ]
    },
    {
      "cell_type": "markdown",
      "metadata": {},
      "source": [
        "The model did only about 5% worse than it did when we trained it on the normal images, which suggests that this filter isn't really causing us to lose any important data"
      ]
    }
  ],
  "metadata": {
    "accelerator": "GPU",
    "colab": {
      "gpuType": "T4",
      "provenance": []
    },
    "kernelspec": {
      "display_name": "Python 3",
      "name": "python3"
    },
    "language_info": {
      "name": "python"
    }
  },
  "nbformat": 4,
  "nbformat_minor": 0
}
