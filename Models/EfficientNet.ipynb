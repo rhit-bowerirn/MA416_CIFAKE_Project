{
  "cells": [
    {
      "cell_type": "code",
      "execution_count": 3,
      "id": "45ae90ce-93cd-4891-ae95-7017903693b2",
      "metadata": {
        "id": "45ae90ce-93cd-4891-ae95-7017903693b2"
      },
      "outputs": [],
      "source": [
        "from keras.applications import EfficientNetB0\n",
        "from keras.layers import Dense, GlobalAveragePooling2D\n",
        "from keras.models import Model\n",
        "from keras.models import Sequential\n",
        "from keras.layers import Dense, Flatten, Dropout\n",
        "from keras.optimizers import Adam\n",
        "from keras.preprocessing.image import ImageDataGenerator\n",
        "from sklearn.model_selection import train_test_split\n",
        "from sklearn.preprocessing import MinMaxScaler\n",
        "import numpy as np\n",
        "import pandas as pd\n",
        "import tensorflow as tf\n",
        "import cv2\n",
        "import matplotlib.pyplot as plt"
      ]
    },
    {
      "cell_type": "code",
      "execution_count": 4,
      "id": "f516d86e-035f-4039-a31e-4ac14326dced",
      "metadata": {
        "id": "f516d86e-035f-4039-a31e-4ac14326dced"
      },
      "outputs": [],
      "source": [
        "train_data = np.load('CIFAKE_Train.npz')\n",
        "test_data = np.load('CIFAKE_Test.npz')"
      ]
    },
    {
      "cell_type": "code",
      "execution_count": 5,
      "id": "c38577b4-c1ce-44d7-890b-8fa766fcfc56",
      "metadata": {
        "id": "c38577b4-c1ce-44d7-890b-8fa766fcfc56"
      },
      "outputs": [],
      "source": [
        "x_train = train_data['images']\n",
        "y_train = train_data['labels']"
      ]
    },
    {
      "cell_type": "code",
      "execution_count": 6,
      "id": "4e09ed76-1ae4-495c-8197-6e75d591d2a8",
      "metadata": {
        "id": "4e09ed76-1ae4-495c-8197-6e75d591d2a8"
      },
      "outputs": [],
      "source": [
        "x_train, x_val, y_train, y_val = train_test_split(x_train, y_train, test_size=0.2, random_state=42)"
      ]
    },
    {
      "cell_type": "code",
      "execution_count": 7,
      "id": "8fbc23c5-cb96-4480-ae3c-cf4ae1121161",
      "metadata": {
        "id": "8fbc23c5-cb96-4480-ae3c-cf4ae1121161"
      },
      "outputs": [],
      "source": [
        "x_test = test_data['images']\n",
        "y_test = test_data['labels']"
      ]
    },
    {
      "cell_type": "code",
      "execution_count": 8,
      "id": "2fcd923e-7d7a-4d07-86a9-faa3f4455d04",
      "metadata": {
        "id": "2fcd923e-7d7a-4d07-86a9-faa3f4455d04"
      },
      "outputs": [],
      "source": [
        "label_names = train_data['label_names']"
      ]
    },
    {
      "cell_type": "code",
      "source": [
        "def PlotImages(ix_start,num_img,rows,cols,images,labels,label_names,color=True):\n",
        "    plt.figure(figsize=(10,10))\n",
        "    plt.subplots_adjust(wspace=0.5,hspace=0.5)\n",
        "    for i in range(num_img):\n",
        "        plt.subplot(rows,cols,i+1)\n",
        "        plt.axis('off')\n",
        "        if color:\n",
        "            plt.imshow(images[ix_start+i])\n",
        "        else:\n",
        "            plt.imshow(np.squeeze(images[ix_start+i]),cmap='Greys')\n",
        "        plt.title(label_names[labels[ix_start+i]])"
      ],
      "metadata": {
        "id": "8CHWFgIA1EFs"
      },
      "id": "8CHWFgIA1EFs",
      "execution_count": 9,
      "outputs": []
    },
    {
      "cell_type": "code",
      "execution_count": 10,
      "id": "cfb7f056-03cd-43b0-8b84-aa180e3eec6b",
      "metadata": {
        "colab": {
          "base_uri": "https://localhost:8080/",
          "height": 170
        },
        "id": "cfb7f056-03cd-43b0-8b84-aa180e3eec6b",
        "outputId": "5892a945-75ae-4f4f-8e89-fccc18792dc3"
      },
      "outputs": [
        {
          "output_type": "display_data",
          "data": {
            "text/plain": [
              "<Figure size 1000x1000 with 5 Axes>"
            ],
            "image/png": "[encoded data removed]"
          },
          "metadata": {}
        }
      ],
      "source": [
        "PlotImages(0,5,1,5,x_train,y_train,label_names)"
      ]
    },
    {
      "cell_type": "code",
      "execution_count": 11,
      "id": "f25c3cc9-506d-41f7-b686-f1bca5ce7393",
      "metadata": {
        "colab": {
          "base_uri": "https://localhost:8080/"
        },
        "id": "f25c3cc9-506d-41f7-b686-f1bca5ce7393",
        "outputId": "9de6b9a0-6a5c-445b-9b57-cece8a270552"
      },
      "outputs": [
        {
          "output_type": "stream",
          "name": "stdout",
          "text": [
            "Downloading data from https://storage.googleapis.com/keras-applications/efficientnetb0_notop.h5\n",
            "16705208/16705208 [==============================] - 1s 0us/step\n"
          ]
        }
      ],
      "source": [
        "efficient_net = EfficientNetB0(weights='imagenet', include_top=False, input_shape=(32, 32, 3))"
      ]
    },
    {
      "cell_type": "code",
      "execution_count": 12,
      "id": "2a6ca32c-99bf-4dc2-a06d-e90c8f16bc28",
      "metadata": {
        "id": "2a6ca32c-99bf-4dc2-a06d-e90c8f16bc28"
      },
      "outputs": [],
      "source": [
        "x = efficient_net.output\n",
        "x = GlobalAveragePooling2D()(x)\n",
        "x = Dense(256, activation='relu')(x)\n",
        "Ph = Dense(1, activation='sigmoid')(x)\n",
        "model = tf.keras.Model(inputs=efficient_net.input, outputs=Ph)"
      ]
    },
    {
      "cell_type": "code",
      "execution_count": 13,
      "id": "fea0dfc5-f9c2-4c5b-9516-91048670e92b",
      "metadata": {
        "id": "fea0dfc5-f9c2-4c5b-9516-91048670e92b"
      },
      "outputs": [],
      "source": [
        "model.compile(optimizer='adam', loss='binary_crossentropy', metrics=['accuracy'])"
      ]
    },
    {
      "cell_type": "code",
      "execution_count": 14,
      "id": "0e981a3c-6d72-4063-b5ae-fbff01b8fe58",
      "metadata": {
        "colab": {
          "base_uri": "https://localhost:8080/"
        },
        "id": "0e981a3c-6d72-4063-b5ae-fbff01b8fe58",
        "outputId": "79dea882-7869-4677-e2ce-a09f8cc09bf5"
      },
      "outputs": [
        {
          "output_type": "stream",
          "name": "stdout",
          "text": [
            "Epoch 1/10\n",
            "2500/2500 [==============================] - 147s 41ms/step - loss: 0.2039 - accuracy: 0.9195 - val_loss: 0.1082 - val_accuracy: 0.9606\n",
            "Epoch 2/10\n",
            "2500/2500 [==============================] - 99s 40ms/step - loss: 0.1211 - accuracy: 0.9550 - val_loss: 0.1267 - val_accuracy: 0.9624\n",
            "Epoch 3/10\n",
            "2500/2500 [==============================] - 100s 40ms/step - loss: 0.0979 - accuracy: 0.9635 - val_loss: 0.1061 - val_accuracy: 0.9651\n",
            "Epoch 4/10\n",
            "2500/2500 [==============================] - 107s 43ms/step - loss: 0.0848 - accuracy: 0.9690 - val_loss: 0.0864 - val_accuracy: 0.9675\n",
            "Epoch 5/10\n",
            "2500/2500 [==============================] - 100s 40ms/step - loss: 0.0746 - accuracy: 0.9723 - val_loss: 0.0931 - val_accuracy: 0.9668\n",
            "Epoch 6/10\n",
            "2500/2500 [==============================] - 100s 40ms/step - loss: 0.0618 - accuracy: 0.9774 - val_loss: 0.0792 - val_accuracy: 0.9727\n",
            "Epoch 7/10\n",
            "2500/2500 [==============================] - 100s 40ms/step - loss: 0.0541 - accuracy: 0.9804 - val_loss: 0.0813 - val_accuracy: 0.9707\n",
            "Epoch 8/10\n",
            "2500/2500 [==============================] - 104s 42ms/step - loss: 0.0506 - accuracy: 0.9815 - val_loss: 0.0852 - val_accuracy: 0.9717\n",
            "Epoch 9/10\n",
            "2500/2500 [==============================] - 99s 40ms/step - loss: 0.0443 - accuracy: 0.9842 - val_loss: 0.1090 - val_accuracy: 0.9646\n",
            "Epoch 10/10\n",
            "2500/2500 [==============================] - 106s 42ms/step - loss: 0.0391 - accuracy: 0.9855 - val_loss: 0.0759 - val_accuracy: 0.9714\n"
          ]
        },
        {
          "output_type": "execute_result",
          "data": {
            "text/plain": [
              "<keras.src.callbacks.History at 0x785b82d7cac0>"
            ]
          },
          "metadata": {},
          "execution_count": 14
        }
      ],
      "source": [
        "model.fit(x_train, y_train, epochs=10, batch_size=32, validation_data=(x_val,y_val))"
      ]
    },
    {
      "cell_type": "code",
      "execution_count": 15,
      "id": "b28679c2-1316-4f5b-b45c-1db39f61287f",
      "metadata": {
        "colab": {
          "base_uri": "https://localhost:8080/"
        },
        "id": "b28679c2-1316-4f5b-b45c-1db39f61287f",
        "outputId": "8766bd5b-e551-4bf2-bc12-45c4381af655"
      },
      "outputs": [
        {
          "output_type": "stream",
          "name": "stdout",
          "text": [
            "625/625 [==============================] - 6s 9ms/step - loss: 0.0777 - accuracy: 0.9721\n"
          ]
        }
      ],
      "source": [
        "test_loss, test_accuracy = model.evaluate(x_test, y_test)"
      ]
    }
  ],
  "metadata": {
    "kernelspec": {
      "display_name": "Python 3",
      "name": "python3"
    },
    "language_info": {
      "codemirror_mode": {
        "name": "ipython",
        "version": 3
      },
      "file_extension": ".py",
      "mimetype": "text/x-python",
      "name": "python",
      "nbconvert_exporter": "python",
      "pygments_lexer": "ipython3",
      "version": "3.11.6"
    },
    "colab": {
      "provenance": [],
      "gpuType": "T4"
    },
    "accelerator": "GPU"
  },
  "nbformat": 4,
  "nbformat_minor": 5
}