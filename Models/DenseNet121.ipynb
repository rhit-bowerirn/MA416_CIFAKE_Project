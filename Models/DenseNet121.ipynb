{
 "cells": [
  {
   "cell_type": "code",
   "execution_count": 1,
   "id": "5fc0bc22-7520-4c73-bf55-5bc8699a1c2a",
   "metadata": {},
   "outputs": [
    {
     "name": "stderr",
     "output_type": "stream",
     "text": [
      "2023-10-26 10:19:56.159823: I tensorflow/core/util/port.cc:110] oneDNN custom operations are on. You may see slightly different numerical results due to floating-point round-off errors from different computation orders. To turn them off, set the environment variable `TF_ENABLE_ONEDNN_OPTS=0`.\n",
      "2023-10-26 10:19:56.230259: I tensorflow/core/platform/cpu_feature_guard.cc:182] This TensorFlow binary is optimized to use available CPU instructions in performance-critical operations.\n",
      "To enable the following instructions: SSE4.1 SSE4.2 AVX AVX2 AVX512F AVX512_VNNI FMA, in other operations, rebuild TensorFlow with the appropriate compiler flags.\n"
     ]
    }
   ],
   "source": [
    "import numpy as np\n",
    "import tensorflow as tf\n",
    "from tensorflow.keras.datasets import cifar10\n",
    "from tensorflow.keras.utils import to_categorical\n",
    "from tensorflow.keras.applications.densenet import DenseNet121\n",
    "from tensorflow.keras.models import Sequential\n",
    "from tensorflow.keras.layers import GlobalAveragePooling2D, Dense, Dropout"
   ]
  },
  {
   "cell_type": "code",
   "execution_count": 2,
   "id": "7e073716-a0df-4590-9413-6bde69251e91",
   "metadata": {},
   "outputs": [
    {
     "data": {
      "text/plain": [
       "[PhysicalDevice(name='/physical_device:GPU:0', device_type='GPU')]"
      ]
     },
     "execution_count": 2,
     "metadata": {},
     "output_type": "execute_result"
    }
   ],
   "source": [
    "import os\n",
    "\n",
    "os.environ['CUDA_VISIBLE_DEVICES']= '3'\n",
    "tf.config.list_physical_devices('GPU')"
   ]
  },
  {
   "cell_type": "code",
   "execution_count": 3,
   "id": "67ae1b1d-d18f-4dee-923e-5b75769467ef",
   "metadata": {},
   "outputs": [],
   "source": [
    "gpus = tf.config.experimental.list_physical_devices('GPU')\n",
    "for gpu in gpus:\n",
    "    tf.config.experimental.set_memory_growth(gpu,True)"
   ]
  },
  {
   "cell_type": "code",
   "execution_count": 4,
   "id": "ea5f1432-2900-4208-aed9-0f7aeb715f25",
   "metadata": {},
   "outputs": [],
   "source": [
    "train_data = np.load('CIFAKE_Train.npz')\n",
    "test_data = np.load('CIFAKE_Test.npz')"
   ]
  },
  {
   "cell_type": "code",
   "execution_count": 5,
   "id": "9a9888ed-f79c-40dc-a3b3-d98f30c38d10",
   "metadata": {},
   "outputs": [],
   "source": [
    "# Extract features and labels from the loaded data\n",
    "x_train, y_train = train_data['images'], train_data['labels']\n",
    "x_test, y_test = test_data['images'], test_data['labels']"
   ]
  },
  {
   "cell_type": "code",
   "execution_count": 6,
   "id": "d95f6d13-0543-45ce-9c61-a46a8abf3aba",
   "metadata": {},
   "outputs": [
    {
     "name": "stderr",
     "output_type": "stream",
     "text": [
      "2023-10-26 10:20:01.164331: I tensorflow/core/common_runtime/gpu/gpu_device.cc:1635] Created device /job:localhost/replica:0/task:0/device:GPU:0 with 17690 MB memory:  -> device: 0, name: Quadro RTX 6000, pci bus id: 0000:1e:00.0, compute capability: 7.5\n"
     ]
    }
   ],
   "source": [
    "base_model = DenseNet121(weights='imagenet', include_top=False, input_shape=(32, 32, 3))"
   ]
  },
  {
   "cell_type": "code",
   "execution_count": 7,
   "id": "a81dc31d-fe72-41ab-8cd8-daf614efd615",
   "metadata": {},
   "outputs": [],
   "source": [
    "model = Sequential()\n",
    "model.add(base_model)\n",
    "model.add(GlobalAveragePooling2D())\n",
    "model.add(Dense(256, activation='relu'))\n",
    "model.add(Dropout(0.5))\n",
    "model.add(Dense(1, activation='sigmoid'))"
   ]
  },
  {
   "cell_type": "code",
   "execution_count": 8,
   "id": "5bdc5116-dc35-4d98-80a1-d757f5286dfd",
   "metadata": {},
   "outputs": [],
   "source": [
    "model.compile(optimizer='adam', loss='binary_crossentropy', metrics=['accuracy'])"
   ]
  },
  {
   "cell_type": "code",
   "execution_count": 9,
   "id": "bb4a2fd8-4d31-4eb1-9004-f7202c2803ff",
   "metadata": {},
   "outputs": [
    {
     "name": "stdout",
     "output_type": "stream",
     "text": [
      "Epoch 1/10\n"
     ]
    },
    {
     "name": "stderr",
     "output_type": "stream",
     "text": [
      "2023-10-26 10:20:31.143065: I tensorflow/compiler/xla/stream_executor/cuda/cuda_dnn.cc:424] Loaded cuDNN version 8902\n",
      "2023-10-26 10:20:31.285158: I tensorflow/tsl/platform/default/subprocess.cc:304] Start cannot spawn child process: No such file or directory\n",
      "2023-10-26 10:20:32.905620: I tensorflow/compiler/xla/service/service.cc:169] XLA service 0x7f3c1cee8020 initialized for platform CUDA (this does not guarantee that XLA will be used). Devices:\n",
      "2023-10-26 10:20:32.905652: I tensorflow/compiler/xla/service/service.cc:177]   StreamExecutor device (0): Quadro RTX 6000, Compute Capability 7.5\n",
      "2023-10-26 10:20:32.911517: I tensorflow/compiler/mlir/tensorflow/utils/dump_mlir_util.cc:269] disabling MLIR crash reproducer, set env var `MLIR_CRASH_REPRODUCER_DIRECTORY` to enable.\n",
      "2023-10-26 10:20:32.990393: I tensorflow/tsl/platform/default/subprocess.cc:304] Start cannot spawn child process: No such file or directory\n",
      "2023-10-26 10:20:33.071084: I ./tensorflow/compiler/jit/device_compiler.h:180] Compiled cluster using XLA!  This line is logged at most once for the lifetime of the process.\n"
     ]
    },
    {
     "name": "stdout",
     "output_type": "stream",
     "text": [
      "2500/2500 [==============================] - 330s 106ms/step - loss: 0.2379 - accuracy: 0.9098 - val_loss: 0.1859 - val_accuracy: 0.9275\n",
      "Epoch 2/10\n",
      "2500/2500 [==============================] - 258s 103ms/step - loss: 0.1694 - accuracy: 0.9357 - val_loss: 0.2370 - val_accuracy: 0.8989\n",
      "Epoch 3/10\n",
      "2500/2500 [==============================] - 249s 100ms/step - loss: 0.1884 - accuracy: 0.9291 - val_loss: 0.1933 - val_accuracy: 0.9214\n",
      "Epoch 4/10\n",
      "2500/2500 [==============================] - 243s 97ms/step - loss: 0.1385 - accuracy: 0.9481 - val_loss: 0.1908 - val_accuracy: 0.9257\n",
      "Epoch 5/10\n",
      "2500/2500 [==============================] - 253s 101ms/step - loss: 0.1244 - accuracy: 0.9538 - val_loss: 0.1429 - val_accuracy: 0.9439\n",
      "Epoch 6/10\n",
      "2500/2500 [==============================] - 255s 102ms/step - loss: 0.1337 - accuracy: 0.9509 - val_loss: 0.2370 - val_accuracy: 0.9022\n",
      "Epoch 7/10\n",
      "2500/2500 [==============================] - 262s 105ms/step - loss: 0.1172 - accuracy: 0.9571 - val_loss: 0.1241 - val_accuracy: 0.9517\n",
      "Epoch 8/10\n",
      "2500/2500 [==============================] - 255s 102ms/step - loss: 0.0916 - accuracy: 0.9655 - val_loss: 0.1182 - val_accuracy: 0.9556\n",
      "Epoch 9/10\n",
      "2500/2500 [==============================] - 262s 105ms/step - loss: 0.0893 - accuracy: 0.9669 - val_loss: 0.4785 - val_accuracy: 0.8209\n",
      "Epoch 10/10\n",
      "2500/2500 [==============================] - 257s 103ms/step - loss: 0.1100 - accuracy: 0.9595 - val_loss: 0.0983 - val_accuracy: 0.9643\n"
     ]
    },
    {
     "data": {
      "text/plain": [
       "<keras.callbacks.History at 0x7f400c0c3750>"
      ]
     },
     "execution_count": 9,
     "metadata": {},
     "output_type": "execute_result"
    }
   ],
   "source": [
    "acc = model.fit(x_train,y_train,epochs=10,batch_size=32,validation_split=0.2)\n",
    "acc"
   ]
  },
  {
   "cell_type": "code",
   "execution_count": 10,
   "id": "5dd2ade9-67c6-419b-9a1e-195dd7c05802",
   "metadata": {},
   "outputs": [
    {
     "name": "stdout",
     "output_type": "stream",
     "text": [
      "625/625 [==============================] - 16s 25ms/step - loss: 0.1047 - accuracy: 0.9621\n"
     ]
    }
   ],
   "source": [
    "test_loss, test_accuracy = model.evaluate(x_test, y_test)"
   ]
  },
  {
   "cell_type": "code",
   "execution_count": null,
   "id": "34692b8d-8562-46bb-842e-b4a513f30a17",
   "metadata": {},
   "outputs": [],
   "source": []
  }
 ],
 "metadata": {
  "kernelspec": {
   "display_name": "Python 3 (ipykernel)",
   "language": "python",
   "name": "python3"
  },
  "language_info": {
   "codemirror_mode": {
    "name": "ipython",
    "version": 3
   },
   "file_extension": ".py",
   "mimetype": "text/x-python",
   "name": "python",
   "nbconvert_exporter": "python",
   "pygments_lexer": "ipython3",
   "version": "3.11.6"
  }
 },
 "nbformat": 4,
 "nbformat_minor": 5
}
