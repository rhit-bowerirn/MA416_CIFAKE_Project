{
 "cells": [
  {
   "cell_type": "code",
   "execution_count": 1,
   "id": "5fc0bc22-7520-4c73-bf55-5bc8699a1c2a",
   "metadata": {},
   "outputs": [
    {
     "name": "stderr",
     "output_type": "stream",
     "text": [
      "2023-10-25 19:46:39.625243: I tensorflow/core/util/port.cc:110] oneDNN custom operations are on. You may see slightly different numerical results due to floating-point round-off errors from different computation orders. To turn them off, set the environment variable `TF_ENABLE_ONEDNN_OPTS=0`.\n",
      "2023-10-25 19:46:39.681003: I tensorflow/core/platform/cpu_feature_guard.cc:182] This TensorFlow binary is optimized to use available CPU instructions in performance-critical operations.\n",
      "To enable the following instructions: SSE4.1 SSE4.2 AVX AVX2 AVX512F AVX512_VNNI FMA, in other operations, rebuild TensorFlow with the appropriate compiler flags.\n"
     ]
    }
   ],
   "source": [
    "import numpy as np\n",
    "import tensorflow as tf\n",
    "from tensorflow.keras.datasets import cifar10\n",
    "from tensorflow.keras.utils import to_categorical\n",
    "from tensorflow.keras.applications.densenet import DenseNet121\n",
    "from tensorflow.keras.models import Sequential\n",
    "from tensorflow.keras.layers import GlobalAveragePooling2D, Dense, Dropout"
   ]
  },
  {
   "cell_type": "code",
   "execution_count": 4,
   "id": "ea5f1432-2900-4208-aed9-0f7aeb715f25",
   "metadata": {},
   "outputs": [],
   "source": [
    "train_data = np.load('CIFAKE_Train.npz')\n",
    "test_data = np.load('CIFAKE_Test.npz')"
   ]
  },
  {
   "cell_type": "code",
   "execution_count": 5,
   "id": "9a9888ed-f79c-40dc-a3b3-d98f30c38d10",
   "metadata": {},
   "outputs": [],
   "source": [
    "# Extract features and labels from the loaded data\n",
    "x_train, y_train = train_data['images'], train_data['labels']\n",
    "x_test, y_test = test_data['images'], test_data['labels']"
   ]
  },
  {
   "cell_type": "code",
   "execution_count": null,
   "id": "d95f6d13-0543-45ce-9c61-a46a8abf3aba",
   "metadata": {},
   "outputs": [],
   "source": []
  }
 ],
 "metadata": {
  "kernelspec": {
   "display_name": "Python 3 (ipykernel)",
   "language": "python",
   "name": "python3"
  },
  "language_info": {
   "codemirror_mode": {
    "name": "ipython",
    "version": 3
   },
   "file_extension": ".py",
   "mimetype": "text/x-python",
   "name": "python",
   "nbconvert_exporter": "python",
   "pygments_lexer": "ipython3",
   "version": "3.11.6"
  }
 },
 "nbformat": 4,
 "nbformat_minor": 5
}
