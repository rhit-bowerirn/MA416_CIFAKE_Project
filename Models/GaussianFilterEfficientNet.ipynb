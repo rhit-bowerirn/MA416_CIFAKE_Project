{
 "cells": [
  {
   "cell_type": "code",
   "execution_count": 1,
   "id": "a34cbbdf-747e-40d6-81bd-55e9e3db70af",
   "metadata": {},
   "outputs": [
    {
     "name": "stderr",
     "output_type": "stream",
     "text": [
      "2023-11-02 23:01:24.353723: I tensorflow/core/util/port.cc:110] oneDNN custom operations are on. You may see slightly different numerical results due to floating-point round-off errors from different computation orders. To turn them off, set the environment variable `TF_ENABLE_ONEDNN_OPTS=0`.\n",
      "2023-11-02 23:01:24.418412: I tensorflow/core/platform/cpu_feature_guard.cc:182] This TensorFlow binary is optimized to use available CPU instructions in performance-critical operations.\n",
      "To enable the following instructions: SSE4.1 SSE4.2 AVX AVX2 AVX512F AVX512_VNNI FMA, in other operations, rebuild TensorFlow with the appropriate compiler flags.\n"
     ]
    }
   ],
   "source": [
    "from keras.applications import EfficientNetB0\n",
    "from keras.layers import Dense, GlobalAveragePooling2D\n",
    "from keras.models import Model\n",
    "from keras.models import Sequential\n",
    "from keras.layers import Dense, Flatten, Dropout\n",
    "from keras.optimizers import Adam\n",
    "from keras.preprocessing.image import ImageDataGenerator\n",
    "from sklearn.model_selection import train_test_split\n",
    "from sklearn.preprocessing import MinMaxScaler\n",
    "import numpy as np\n",
    "import pandas as pd\n",
    "import tensorflow as tf\n",
    "import cv2\n",
    "from Utilities import *"
   ]
  },
  {
   "cell_type": "code",
   "execution_count": 2,
   "id": "d786ff29-5358-41e6-a99e-dc68a8a02adb",
   "metadata": {},
   "outputs": [
    {
     "data": {
      "text/plain": [
       "[PhysicalDevice(name='/physical_device:GPU:0', device_type='GPU')]"
      ]
     },
     "execution_count": 2,
     "metadata": {},
     "output_type": "execute_result"
    }
   ],
   "source": [
    "import os\n",
    "\n",
    "os.environ['CUDA_VISIBLE_DEVICES'] = '4'\n",
    "tf.config.list_physical_devices('GPU')"
   ]
  },
  {
   "cell_type": "code",
   "execution_count": 3,
   "id": "383a5d9b-919f-4932-9bb5-2960f2e6735b",
   "metadata": {},
   "outputs": [],
   "source": [
    "gpus = tf.config.experimental.list_physical_devices('GPU')\n",
    "for gpu in gpus:\n",
    "    tf.config.experimental.set_memory_growth(gpu,True)"
   ]
  },
  {
   "cell_type": "code",
   "execution_count": 4,
   "id": "579667f7-c2c0-4dbe-b2e7-ed84ed858e11",
   "metadata": {},
   "outputs": [],
   "source": [
    "train_data = np.load('Gaussian_Blur_Train.npz')\n",
    "test_data = np.load('Gaussian_Blur_Test.npz')"
   ]
  },
  {
   "cell_type": "code",
   "execution_count": 5,
   "id": "156443f4-16ac-4fc8-b50b-4670ad2e3040",
   "metadata": {},
   "outputs": [],
   "source": [
    "x_train = train_data['images']\n",
    "y_train = train_data['labels']"
   ]
  },
  {
   "cell_type": "code",
   "execution_count": 6,
   "id": "d6c7253d-8220-4e80-8a63-feacd5c30c59",
   "metadata": {},
   "outputs": [],
   "source": [
    "x_test = test_data['images']\n",
    "y_test = test_data['labels']"
   ]
  },
  {
   "cell_type": "code",
   "execution_count": 7,
   "id": "70b8c46c-bf2e-4e08-baa5-2fd44ca85e58",
   "metadata": {},
   "outputs": [],
   "source": [
    "label_names = train_data['label_names']"
   ]
  },
  {
   "cell_type": "code",
   "execution_count": 8,
   "id": "47127dab-2211-427c-937e-5be701155948",
   "metadata": {},
   "outputs": [],
   "source": [
    "resized_x_train = []\n",
    "for image in x_train:\n",
    "    resized_image = cv2.resize(image, (224, 224))\n",
    "    resized_x_train.append(resized_image)"
   ]
  },
  {
   "cell_type": "code",
   "execution_count": 9,
   "id": "94150d29-6f60-4786-b648-c342bb29e461",
   "metadata": {},
   "outputs": [],
   "source": [
    "resized_x_test = []\n",
    "for image in x_test:\n",
    "    resized_image = cv2.resize(image, (224, 224))\n",
    "    resized_x_test.append(resized_image)"
   ]
  },
  {
   "cell_type": "code",
   "execution_count": 10,
   "id": "5e9c12ee-948b-42eb-9622-48d9323ae169",
   "metadata": {},
   "outputs": [],
   "source": [
    "resized_x_train = np.array(resized_x_train)\n",
    "resized_x_test = np.array(resized_x_test)\n",
    "training_subset = resized_x_train"
   ]
  },
  {
   "cell_type": "code",
   "execution_count": 11,
   "id": "d8cd1b66-a327-4d0d-afd6-ca891ea9097b",
   "metadata": {},
   "outputs": [
    {
     "name": "stderr",
     "output_type": "stream",
     "text": [
      "2023-11-02 23:01:51.667990: I tensorflow/core/common_runtime/gpu/gpu_device.cc:1635] Created device /job:localhost/replica:0/task:0/device:GPU:0 with 22830 MB memory:  -> device: 0, name: Quadro RTX 6000, pci bus id: 0000:3d:00.0, compute capability: 7.5\n"
     ]
    }
   ],
   "source": [
    "efficient_net = EfficientNetB0(weights='imagenet', include_top=False, input_shape=(224, 224, 3))"
   ]
  },
  {
   "cell_type": "code",
   "execution_count": 12,
   "id": "09cc3869-5701-464a-b015-b777413e86ad",
   "metadata": {},
   "outputs": [],
   "source": [
    "x = efficient_net.output\n",
    "x = GlobalAveragePooling2D()(x)\n",
    "x = Dense(256, activation='relu')(x)\n",
    "Ph = Dense(1, activation='sigmoid')(x)\n",
    "model = tf.keras.Model(inputs=efficient_net.input, outputs=Ph)"
   ]
  },
  {
   "cell_type": "code",
   "execution_count": 13,
   "id": "57808396-aa91-40e2-aaf2-00687c5e268d",
   "metadata": {},
   "outputs": [],
   "source": [
    "model.compile(optimizer='adam', loss='binary_crossentropy', metrics=['accuracy'])"
   ]
  },
  {
   "cell_type": "code",
   "execution_count": 14,
   "id": "073e11bc-916c-44fb-ab73-6ed704b94144",
   "metadata": {
    "scrolled": true
   },
   "outputs": [
    {
     "name": "stdout",
     "output_type": "stream",
     "text": [
      "Epoch 1/3\n"
     ]
    },
    {
     "name": "stderr",
     "output_type": "stream",
     "text": [
      "2023-11-02 23:02:21.988745: E tensorflow/core/grappler/optimizers/meta_optimizer.cc:954] layout failed: INVALID_ARGUMENT: Size of values 0 does not match size of permutation 4 @ fanin shape inmodel/block2b_drop/dropout/SelectV2-2-TransposeNHWCToNCHW-LayoutOptimizer\n",
      "2023-11-02 23:02:23.783558: I tensorflow/compiler/xla/stream_executor/cuda/cuda_dnn.cc:424] Loaded cuDNN version 8902\n",
      "2023-11-02 23:02:23.963358: I tensorflow/tsl/platform/default/subprocess.cc:304] Start cannot spawn child process: No such file or directory\n",
      "2023-11-02 23:02:24.169746: I tensorflow/compiler/xla/service/service.cc:169] XLA service 0x7f0191266bb0 initialized for platform CUDA (this does not guarantee that XLA will be used). Devices:\n",
      "2023-11-02 23:02:24.169791: I tensorflow/compiler/xla/service/service.cc:177]   StreamExecutor device (0): Quadro RTX 6000, Compute Capability 7.5\n",
      "2023-11-02 23:02:24.176239: I tensorflow/compiler/mlir/tensorflow/utils/dump_mlir_util.cc:269] disabling MLIR crash reproducer, set env var `MLIR_CRASH_REPRODUCER_DIRECTORY` to enable.\n",
      "2023-11-02 23:02:24.282320: I tensorflow/tsl/platform/default/subprocess.cc:304] Start cannot spawn child process: No such file or directory\n",
      "2023-11-02 23:02:24.373343: I ./tensorflow/compiler/jit/device_compiler.h:180] Compiled cluster using XLA!  This line is logged at most once for the lifetime of the process.\n"
     ]
    },
    {
     "name": "stdout",
     "output_type": "stream",
     "text": [
      "2500/2500 [==============================] - 339s 120ms/step - loss: 0.2223 - accuracy: 0.9107 - val_loss: 0.1435 - val_accuracy: 0.9471\n",
      "Epoch 2/3\n",
      "2500/2500 [==============================] - 297s 119ms/step - loss: 0.1534 - accuracy: 0.9400 - val_loss: 0.3344 - val_accuracy: 0.8982\n",
      "Epoch 3/3\n",
      "2500/2500 [==============================] - 300s 120ms/step - loss: 0.1274 - accuracy: 0.9512 - val_loss: 0.1350 - val_accuracy: 0.9492\n"
     ]
    },
    {
     "data": {
      "text/plain": [
       "<keras.callbacks.History at 0x7f10ad096550>"
      ]
     },
     "execution_count": 14,
     "metadata": {},
     "output_type": "execute_result"
    }
   ],
   "source": [
    "model.fit(training_subset, y_train, epochs=3, batch_size=32, validation_split=0.2)"
   ]
  },
  {
   "cell_type": "code",
   "execution_count": 15,
   "id": "ef867512-df9a-48a7-b87f-c8f76317ab29",
   "metadata": {},
   "outputs": [
    {
     "name": "stdout",
     "output_type": "stream",
     "text": [
      "625/625 [==============================] - 16s 26ms/step - loss: 0.1391 - accuracy: 0.9481\n"
     ]
    }
   ],
   "source": [
    "test_loss, test_accuracy = model.evaluate(resized_x_test, y_test)"
   ]
  },
  {
   "cell_type": "code",
   "execution_count": null,
   "id": "1502f28d-a106-418d-bfc5-313a6ebe6a28",
   "metadata": {},
   "outputs": [],
   "source": []
  }
 ],
 "metadata": {
  "kernelspec": {
   "display_name": "Python 3 (ipykernel)",
   "language": "python",
   "name": "python3"
  },
  "language_info": {
   "codemirror_mode": {
    "name": "ipython",
    "version": 3
   },
   "file_extension": ".py",
   "mimetype": "text/x-python",
   "name": "python",
   "nbconvert_exporter": "python",
   "pygments_lexer": "ipython3",
   "version": "3.11.6"
  }
 },
 "nbformat": 4,
 "nbformat_minor": 5
}
