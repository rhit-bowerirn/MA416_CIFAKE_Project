{
  "cells": [
    {
      "cell_type": "code",
      "execution_count": 1,
      "id": "45ae90ce-93cd-4891-ae95-7017903693b2",
      "metadata": {
        "id": "45ae90ce-93cd-4891-ae95-7017903693b2"
      },
      "outputs": [],
      "source": [
        "from keras.applications import EfficientNetB0\n",
        "from keras.layers import Dense, GlobalAveragePooling2D\n",
        "from keras.models import Model\n",
        "from keras.models import Sequential\n",
        "from keras.layers import Dense, Flatten, Dropout\n",
        "from keras.optimizers import Adam\n",
        "from keras.preprocessing.image import ImageDataGenerator\n",
        "from sklearn.model_selection import train_test_split\n",
        "from sklearn.preprocessing import MinMaxScaler\n",
        "import numpy as np\n",
        "import pandas as pd\n",
        "import tensorflow as tf\n",
        "import matplotlib.pyplot as plt\n",
        "import cv2"
      ]
    },
    {
      "cell_type": "code",
      "execution_count": 2,
      "id": "f516d86e-035f-4039-a31e-4ac14326dced",
      "metadata": {
        "id": "f516d86e-035f-4039-a31e-4ac14326dced"
      },
      "outputs": [],
      "source": [
        "train_data = np.load('CIFAKE_Train.npz')\n",
        "test_data = np.load('CIFAKE_Test.npz')"
      ]
    },
    {
      "cell_type": "code",
      "execution_count": 3,
      "id": "c38577b4-c1ce-44d7-890b-8fa766fcfc56",
      "metadata": {
        "id": "c38577b4-c1ce-44d7-890b-8fa766fcfc56"
      },
      "outputs": [],
      "source": [
        "x_train = train_data['images']\n",
        "y_train = train_data['labels']"
      ]
    },
    {
      "cell_type": "code",
      "execution_count": 4,
      "id": "44629bd3-5dc0-4cd1-8b75-65dd946a9588",
      "metadata": {
        "colab": {
          "base_uri": "https://localhost:8080/"
        },
        "id": "44629bd3-5dc0-4cd1-8b75-65dd946a9588",
        "outputId": "b0980ab2-bfd9-4d3a-827a-78d9015434f9"
      },
      "outputs": [
        {
          "output_type": "execute_result",
          "data": {
            "text/plain": [
              "(100000,)"
            ]
          },
          "metadata": {},
          "execution_count": 4
        }
      ],
      "source": [
        "y_train.shape"
      ]
    },
    {
      "cell_type": "code",
      "execution_count": 5,
      "id": "4e09ed76-1ae4-495c-8197-6e75d591d2a8",
      "metadata": {
        "id": "4e09ed76-1ae4-495c-8197-6e75d591d2a8"
      },
      "outputs": [],
      "source": [
        "x_train, x_val, y_train, y_val = train_test_split(x_train, y_train, test_size=0.2, random_state=42)"
      ]
    },
    {
      "cell_type": "code",
      "execution_count": 6,
      "id": "8fbc23c5-cb96-4480-ae3c-cf4ae1121161",
      "metadata": {
        "id": "8fbc23c5-cb96-4480-ae3c-cf4ae1121161"
      },
      "outputs": [],
      "source": [
        "x_test = test_data['images']\n",
        "y_test = test_data['labels']"
      ]
    },
    {
      "cell_type": "code",
      "execution_count": 7,
      "id": "2fcd923e-7d7a-4d07-86a9-faa3f4455d04",
      "metadata": {
        "id": "2fcd923e-7d7a-4d07-86a9-faa3f4455d04"
      },
      "outputs": [],
      "source": [
        "label_names = train_data['label_names']"
      ]
    },
    {
      "cell_type": "code",
      "source": [
        "def PlotImages(ix_start,num_img,rows,cols,images,labels,label_names,color=True):\n",
        "    plt.figure(figsize=(10,10))\n",
        "    plt.subplots_adjust(wspace=0.5,hspace=0.5)\n",
        "    for i in range(num_img):\n",
        "        plt.subplot(rows,cols,i+1)\n",
        "        plt.axis('off')\n",
        "        if color:\n",
        "            plt.imshow(images[ix_start+i])\n",
        "        else:\n",
        "            plt.imshow(np.squeeze(images[ix_start+i]),cmap='Greys')\n",
        "        plt.title(label_names[labels[ix_start+i]])"
      ],
      "metadata": {
        "id": "ukxE97uh98yi"
      },
      "id": "ukxE97uh98yi",
      "execution_count": 8,
      "outputs": []
    },
    {
      "cell_type": "code",
      "execution_count": 9,
      "id": "f25c3cc9-506d-41f7-b686-f1bca5ce7393",
      "metadata": {
        "colab": {
          "base_uri": "https://localhost:8080/"
        },
        "id": "f25c3cc9-506d-41f7-b686-f1bca5ce7393",
        "outputId": "5a47bae3-1a49-4297-acd6-9d0da2f62d48"
      },
      "outputs": [
        {
          "output_type": "stream",
          "name": "stdout",
          "text": [
            "Downloading data from https://storage.googleapis.com/keras-applications/efficientnetb0_notop.h5\n",
            "16705208/16705208 [==============================] - 0s 0us/step\n"
          ]
        }
      ],
      "source": [
        "efficient_net = EfficientNetB0(weights='imagenet', include_top=False, input_shape=(32, 32, 3))"
      ]
    },
    {
      "cell_type": "code",
      "execution_count": 10,
      "id": "2a6ca32c-99bf-4dc2-a06d-e90c8f16bc28",
      "metadata": {
        "id": "2a6ca32c-99bf-4dc2-a06d-e90c8f16bc28"
      },
      "outputs": [],
      "source": [
        "x = efficient_net.output\n",
        "x = GlobalAveragePooling2D()(x)\n",
        "x = Dense(256, activation='relu')(x)\n",
        "Ph = Dense(1, activation='sigmoid')(x)\n",
        "model = tf.keras.Model(inputs=efficient_net.input, outputs=Ph)"
      ]
    },
    {
      "cell_type": "code",
      "execution_count": 11,
      "id": "fea0dfc5-f9c2-4c5b-9516-91048670e92b",
      "metadata": {
        "id": "fea0dfc5-f9c2-4c5b-9516-91048670e92b"
      },
      "outputs": [],
      "source": [
        "model.compile(optimizer='adam', loss='binary_crossentropy', metrics=['accuracy'])"
      ]
    },
    {
      "cell_type": "code",
      "execution_count": 12,
      "id": "0e981a3c-6d72-4063-b5ae-fbff01b8fe58",
      "metadata": {
        "colab": {
          "base_uri": "https://localhost:8080/"
        },
        "id": "0e981a3c-6d72-4063-b5ae-fbff01b8fe58",
        "outputId": "8498dd14-852d-4256-b424-ff001eacf5e6"
      },
      "outputs": [
        {
          "output_type": "stream",
          "name": "stdout",
          "text": [
            "Epoch 1/10\n",
            "2500/2500 [==============================] - 154s 44ms/step - loss: 0.2040 - accuracy: 0.9193 - val_loss: 0.1436 - val_accuracy: 0.9388\n",
            "Epoch 2/10\n",
            "2500/2500 [==============================] - 109s 43ms/step - loss: 0.1232 - accuracy: 0.9546 - val_loss: 0.1068 - val_accuracy: 0.9589\n",
            "Epoch 3/10\n",
            "2500/2500 [==============================] - 112s 45ms/step - loss: 0.0981 - accuracy: 0.9635 - val_loss: 0.0930 - val_accuracy: 0.9647\n",
            "Epoch 4/10\n",
            "2500/2500 [==============================] - 107s 43ms/step - loss: 0.0938 - accuracy: 0.9653 - val_loss: 0.0932 - val_accuracy: 0.9667\n",
            "Epoch 5/10\n",
            "2500/2500 [==============================] - 107s 43ms/step - loss: 0.0703 - accuracy: 0.9740 - val_loss: 0.1066 - val_accuracy: 0.9600\n",
            "Epoch 6/10\n",
            "2500/2500 [==============================] - 108s 43ms/step - loss: 0.0660 - accuracy: 0.9753 - val_loss: 0.0840 - val_accuracy: 0.9686\n",
            "Epoch 7/10\n",
            "2500/2500 [==============================] - 112s 45ms/step - loss: 0.0605 - accuracy: 0.9779 - val_loss: 0.0857 - val_accuracy: 0.9677\n",
            "Epoch 8/10\n",
            "2500/2500 [==============================] - 108s 43ms/step - loss: 0.0481 - accuracy: 0.9824 - val_loss: 0.0815 - val_accuracy: 0.9693\n",
            "Epoch 9/10\n",
            "2500/2500 [==============================] - 106s 42ms/step - loss: 0.0443 - accuracy: 0.9840 - val_loss: 0.0813 - val_accuracy: 0.9705\n",
            "Epoch 10/10\n",
            "2500/2500 [==============================] - 111s 44ms/step - loss: 0.0433 - accuracy: 0.9845 - val_loss: 0.0805 - val_accuracy: 0.9711\n"
          ]
        },
        {
          "output_type": "execute_result",
          "data": {
            "text/plain": [
              "<keras.src.callbacks.History at 0x78be4be12230>"
            ]
          },
          "metadata": {},
          "execution_count": 12
        }
      ],
      "source": [
        "model.fit(x_train, y_train, epochs=10, batch_size=32, validation_data=(x_val,y_val))"
      ]
    },
    {
      "cell_type": "code",
      "execution_count": 13,
      "id": "d6e7a458-26a9-49ff-b616-22d4128fd2a1",
      "metadata": {
        "id": "d6e7a458-26a9-49ff-b616-22d4128fd2a1"
      },
      "outputs": [],
      "source": [
        "datagen = ImageDataGenerator(\n",
        "    rescale=1/255,\n",
        "    rotation_range=90,\n",
        "    width_shift_range=0.1,\n",
        "    height_shift_range=0.1,\n",
        "    shear_range=0.1,\n",
        "    zoom_range=0.1,\n",
        "    horizontal_flip=True,\n",
        "    vertical_flip=True,\n",
        "    fill_mode='nearest'\n",
        ")"
      ]
    },
    {
      "cell_type": "code",
      "execution_count": 14,
      "id": "a50af27f-efb9-4bf1-9c2d-092b0e1bd67c",
      "metadata": {
        "id": "a50af27f-efb9-4bf1-9c2d-092b0e1bd67c"
      },
      "outputs": [],
      "source": [
        "augmented_train_data = datagen.flow(x_train, y_train, batch_size=32, shuffle=False)"
      ]
    },
    {
      "cell_type": "code",
      "execution_count": 15,
      "id": "6a4973f5-4f5f-4384-ba59-4f91895ca5bd",
      "metadata": {
        "id": "6a4973f5-4f5f-4384-ba59-4f91895ca5bd"
      },
      "outputs": [],
      "source": [
        "augmented_images, augmented_labels = next(augmented_train_data)"
      ]
    },
    {
      "cell_type": "code",
      "execution_count": 16,
      "id": "52433248-c6da-48b8-a4fd-1af38e0bb182",
      "metadata": {
        "colab": {
          "base_uri": "https://localhost:8080/",
          "height": 170
        },
        "id": "52433248-c6da-48b8-a4fd-1af38e0bb182",
        "outputId": "54d4ce27-e622-4aba-f01c-5cdf3145e9fd"
      },
      "outputs": [
        {
          "output_type": "display_data",
          "data": {
            "text/plain": [
              "<Figure size 1000x1000 with 5 Axes>"
            ],
            "image/png": "[encoded data removed]"
          },
          "metadata": {}
        }
      ],
      "source": [
        "PlotImages(0,5,1,5,x_train,y_train,label_names)"
      ]
    },
    {
      "cell_type": "code",
      "execution_count": 17,
      "id": "66a2b4b0-aa94-43d4-8a6a-c5d720b326d8",
      "metadata": {
        "colab": {
          "base_uri": "https://localhost:8080/",
          "height": 170
        },
        "id": "66a2b4b0-aa94-43d4-8a6a-c5d720b326d8",
        "outputId": "8808ded1-d041-4b67-840c-b7634562a2d3"
      },
      "outputs": [
        {
          "output_type": "display_data",
          "data": {
            "text/plain": [
              "<Figure size 1000x1000 with 5 Axes>"
            ],
            "image/png": "[encoded data removed]"
          },
          "metadata": {}
        }
      ],
      "source": [
        "PlotImages(0,5,1,5,augmented_images,augmented_labels,label_names)"
      ]
    },
    {
      "cell_type": "code",
      "execution_count": 18,
      "id": "b28679c2-1316-4f5b-b45c-1db39f61287f",
      "metadata": {
        "colab": {
          "base_uri": "https://localhost:8080/"
        },
        "id": "b28679c2-1316-4f5b-b45c-1db39f61287f",
        "outputId": "c9659852-fd71-4ea6-b679-d8e167f07f40"
      },
      "outputs": [
        {
          "output_type": "stream",
          "name": "stdout",
          "text": [
            "625/625 [==============================] - 6s 9ms/step - loss: 0.0776 - accuracy: 0.9716\n"
          ]
        }
      ],
      "source": [
        "test_loss, test_accuracy = model.evaluate(x_test, y_test)"
      ]
    },
    {
      "cell_type": "code",
      "execution_count": 19,
      "id": "b374a6ba-f256-4326-8cb0-d0e42a95507b",
      "metadata": {
        "id": "b374a6ba-f256-4326-8cb0-d0e42a95507b"
      },
      "outputs": [],
      "source": [
        "model = tf.keras.Model(inputs=efficient_net.input, outputs=Ph)"
      ]
    },
    {
      "cell_type": "code",
      "execution_count": 20,
      "id": "17434606-9608-4898-b205-825bb8b25477",
      "metadata": {
        "id": "17434606-9608-4898-b205-825bb8b25477"
      },
      "outputs": [],
      "source": [
        "model.compile(optimizer='adam', loss='binary_crossentropy', metrics=['accuracy'])"
      ]
    },
    {
      "cell_type": "code",
      "execution_count": 21,
      "id": "e48bbdaa-b10f-46ca-a4fb-211ce01e1498",
      "metadata": {
        "colab": {
          "base_uri": "https://localhost:8080/"
        },
        "id": "e48bbdaa-b10f-46ca-a4fb-211ce01e1498",
        "outputId": "ca59231d-4644-45b1-c635-1e036fc72043"
      },
      "outputs": [
        {
          "output_type": "stream",
          "name": "stdout",
          "text": [
            "Epoch 1/10\n",
            "2500/2500 [==============================] - 203s 69ms/step - loss: 0.4935 - accuracy: 0.7753 - val_loss: 43.5160 - val_accuracy: 0.4958\n",
            "Epoch 2/10\n",
            "2500/2500 [==============================] - 171s 68ms/step - loss: 0.2961 - accuracy: 0.8750 - val_loss: 22.3884 - val_accuracy: 0.5041\n",
            "Epoch 3/10\n",
            "2500/2500 [==============================] - 173s 69ms/step - loss: 0.2567 - accuracy: 0.8936 - val_loss: 1751.1569 - val_accuracy: 0.4958\n",
            "Epoch 4/10\n",
            "2500/2500 [==============================] - 178s 71ms/step - loss: 0.2288 - accuracy: 0.9074 - val_loss: 323.8745 - val_accuracy: 0.4958\n",
            "Epoch 5/10\n",
            "2500/2500 [==============================] - 174s 70ms/step - loss: 0.2135 - accuracy: 0.9136 - val_loss: 1374.6980 - val_accuracy: 0.4958\n",
            "Epoch 6/10\n",
            "2500/2500 [==============================] - 173s 69ms/step - loss: 0.2008 - accuracy: 0.9201 - val_loss: 7944.1895 - val_accuracy: 0.4958\n",
            "Epoch 7/10\n",
            "2500/2500 [==============================] - 179s 72ms/step - loss: 0.2000 - accuracy: 0.9207 - val_loss: 11906.3828 - val_accuracy: 0.4958\n",
            "Epoch 8/10\n",
            "2500/2500 [==============================] - 178s 71ms/step - loss: 0.1828 - accuracy: 0.9269 - val_loss: 5473.6992 - val_accuracy: 0.4958\n",
            "Epoch 9/10\n",
            "2500/2500 [==============================] - 174s 70ms/step - loss: 0.1770 - accuracy: 0.9299 - val_loss: 51748.9180 - val_accuracy: 0.4958\n",
            "Epoch 10/10\n",
            "2500/2500 [==============================] - 183s 73ms/step - loss: 0.1740 - accuracy: 0.9309 - val_loss: 55896.6094 - val_accuracy: 0.4958\n"
          ]
        },
        {
          "output_type": "execute_result",
          "data": {
            "text/plain": [
              "<keras.src.callbacks.History at 0x78bdb8c202e0>"
            ]
          },
          "metadata": {},
          "execution_count": 21
        }
      ],
      "source": [
        "model.fit(augmented_train_data, epochs=10, batch_size=32, validation_data=(x_val,y_val))"
      ]
    },
    {
      "cell_type": "code",
      "execution_count": 22,
      "id": "ce78f134-82a3-4293-87ac-99981817beac",
      "metadata": {
        "colab": {
          "base_uri": "https://localhost:8080/"
        },
        "id": "ce78f134-82a3-4293-87ac-99981817beac",
        "outputId": "401c1d17-3f6f-4d5f-e364-a6e6cae14557"
      },
      "outputs": [
        {
          "output_type": "stream",
          "name": "stdout",
          "text": [
            "625/625 [==============================] - 6s 10ms/step - loss: 55934.2852 - accuracy: 0.5000\n"
          ]
        }
      ],
      "source": [
        "test_loss, test_accuracy = model.evaluate(x_test, y_test)"
      ]
    },
    {
      "cell_type": "code",
      "execution_count": 22,
      "id": "666dd947-2b9a-4d1c-9907-4848af172e9e",
      "metadata": {
        "id": "666dd947-2b9a-4d1c-9907-4848af172e9e"
      },
      "outputs": [],
      "source": []
    }
  ],
  "metadata": {
    "kernelspec": {
      "display_name": "Python 3",
      "name": "python3"
    },
    "language_info": {
      "codemirror_mode": {
        "name": "ipython",
        "version": 3
      },
      "file_extension": ".py",
      "mimetype": "text/x-python",
      "name": "python",
      "nbconvert_exporter": "python",
      "pygments_lexer": "ipython3",
      "version": "3.11.6"
    },
    "colab": {
      "provenance": [],
      "gpuType": "T4"
    },
    "accelerator": "GPU"
  },
  "nbformat": 4,
  "nbformat_minor": 5
}